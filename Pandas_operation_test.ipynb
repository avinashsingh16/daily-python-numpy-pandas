{
  "nbformat": 4,
  "nbformat_minor": 0,
  "metadata": {
    "colab": {
      "provenance": [],
      "authorship_tag": "ABX9TyOsPnv7cQ7x0ENXr6XkG7Zs",
      "include_colab_link": true
    },
    "kernelspec": {
      "name": "python3",
      "display_name": "Python 3"
    },
    "language_info": {
      "name": "python"
    }
  },
  "cells": [
    {
      "cell_type": "markdown",
      "metadata": {
        "id": "view-in-github",
        "colab_type": "text"
      },
      "source": [
        "<a href=\"https://colab.research.google.com/github/avinashsingh16/daily-python-numpy-pandas/blob/main/Pandas_operation_test.ipynb\" target=\"_parent\"><img src=\"https://colab.research.google.com/assets/colab-badge.svg\" alt=\"Open In Colab\"/></a>"
      ]
    },
    {
      "cell_type": "code",
      "execution_count": 1,
      "metadata": {
        "id": "Qu-IvuD0cBOC"
      },
      "outputs": [],
      "source": [
        "import ast\n",
        "def convert_to_list(x):\n",
        "  try:\n",
        "    return ast.literal_eval(x) if isinstance(x,str) else x\n",
        "  except Exception as e:\n",
        "    print(\"Failed to parse\",x)\n",
        "    return []"
      ]
    },
    {
      "cell_type": "code",
      "source": [
        "test_1 = \"[1, 2, 3]\"\n",
        "print(convert_to_list(test_1))  # Output: [1, 2, 3]"
      ],
      "metadata": {
        "colab": {
          "base_uri": "https://localhost:8080/"
        },
        "id": "A6C03cvUdfzD",
        "outputId": "c7366bd5-e405-4f09-ec63-b0120d897997"
      },
      "execution_count": 2,
      "outputs": [
        {
          "output_type": "stream",
          "name": "stdout",
          "text": [
            "[1, 2, 3]\n"
          ]
        }
      ]
    },
    {
      "cell_type": "code",
      "source": [
        "test_2 = \"[{'name': 'Tom'}, {'name': 'Jerry'}]\"\n",
        "print(convert_to_list(test_2))\n",
        "# Output: [{'name': 'Tom'}, {'name': 'Jerry'}]"
      ],
      "metadata": {
        "colab": {
          "base_uri": "https://localhost:8080/"
        },
        "id": "wE0kBoQmdqSX",
        "outputId": "e3e823ae-1d8e-4fba-b843-e5956ef46a52"
      },
      "execution_count": 3,
      "outputs": [
        {
          "output_type": "stream",
          "name": "stdout",
          "text": [
            "[{'name': 'Tom'}, {'name': 'Jerry'}]\n"
          ]
        }
      ]
    },
    {
      "cell_type": "code",
      "source": [
        "test_3 = \"[1, 2, \"   # This is an incomplete list (error!)\n",
        "print(convert_to_list(test_3))\n",
        "# Output: Failed to parse: [1, 2,\n",
        "#         []"
      ],
      "metadata": {
        "colab": {
          "base_uri": "https://localhost:8080/"
        },
        "id": "wbAAjJE0d_s6",
        "outputId": "f677c9c7-5429-4add-f8f6-768f8819602a"
      },
      "execution_count": 4,
      "outputs": [
        {
          "output_type": "stream",
          "name": "stdout",
          "text": [
            "Failed to parse [1, 2, \n",
            "[]\n"
          ]
        }
      ]
    },
    {
      "cell_type": "code",
      "source": [
        "test_4 = [4, 5, 6]\n",
        "print(convert_to_list(test_4))  # Output: [4, 5, 6]"
      ],
      "metadata": {
        "colab": {
          "base_uri": "https://localhost:8080/"
        },
        "id": "bAnUjd4keDn8",
        "outputId": "bba17af8-2316-431d-e2a4-326f90b5f5d3"
      },
      "execution_count": 5,
      "outputs": [
        {
          "output_type": "stream",
          "name": "stdout",
          "text": [
            "[4, 5, 6]\n"
          ]
        }
      ]
    },
    {
      "cell_type": "code",
      "source": [
        "test_5 = \"Hello World\"\n",
        "print(convert_to_list(test_5))\n",
        "# Output: Failed to parse: Hello World\n",
        "#         []"
      ],
      "metadata": {
        "colab": {
          "base_uri": "https://localhost:8080/"
        },
        "id": "Bc6mlxSFeIyF",
        "outputId": "1a4bbef7-7850-418c-af4a-c7560d6dd8f3"
      },
      "execution_count": 6,
      "outputs": [
        {
          "output_type": "stream",
          "name": "stdout",
          "text": [
            "Failed to parse Hello World\n",
            "[]\n"
          ]
        }
      ]
    },
    {
      "cell_type": "code",
      "source": [
        "import pandas as pd\n",
        "from datetime import datetime\n",
        "\n",
        "# Creating a sample e-commerce dataset\n",
        "data = {\n",
        "    \"Order ID\": [1001, 1002, 1003, 1004, 1005, 1006],\n",
        "    \"Customer\": [\"Riya\", \"Aman\", \"Neha\", \"Rahul\", \"Divya\", \"Amit\"],\n",
        "    \"Order Date\": [\"2022-12-15\", \"2023-01-05\", \"2023-03-17\", \"2022-07-20\", \"2023-12-25\", \"2023-12-31\"],\n",
        "    \"Amount\": [1500, 2400, 1800, 2200, 3000, 1700]\n",
        "}\n",
        "\n",
        "df = pd.DataFrame(data)\n",
        "# df.to_csv(\"ecommerce_orders.csv\", index=False)  # Save to a CSV file\n",
        "# print(df)"
      ],
      "metadata": {
        "id": "GzIc6HklozqL"
      },
      "execution_count": 7,
      "outputs": []
    },
    {
      "cell_type": "code",
      "source": [
        "# \t1.\tHow many orders were placed in the year 2023?\n",
        "date_str = data['Order Date'][0]\n",
        "date_obj = datetime.strptime(date_str,\"%Y-%m-%d\")"
      ],
      "metadata": {
        "id": "gCNiksmO2kMc"
      },
      "execution_count": 8,
      "outputs": []
    },
    {
      "cell_type": "code",
      "source": [
        "print(date_obj.year)"
      ],
      "metadata": {
        "colab": {
          "base_uri": "https://localhost:8080/"
        },
        "id": "hkdwj3R8bYxz",
        "outputId": "5cefef86-e781-43cf-f5d4-ad22f563ddbc"
      },
      "execution_count": 9,
      "outputs": [
        {
          "output_type": "stream",
          "name": "stdout",
          "text": [
            "2022\n"
          ]
        }
      ]
    },
    {
      "cell_type": "code",
      "source": [
        "# count = 0\n",
        "# for date in data['Order Date']:\n",
        "#   date_str = date\n",
        "#   date_obj = datetime.strptime(date_str,\"%Y-%m-%d\")\n",
        "#   if date_obj.year == 2023:\n",
        "#     count += 1\n",
        "# print(f\"The total order in 2023 is {count}\")"
      ],
      "metadata": {
        "id": "NxeL5qzLcgbV"
      },
      "execution_count": 10,
      "outputs": []
    },
    {
      "cell_type": "code",
      "source": [
        "data['Order Date'] = pd.to_datetime(data['Order Date'], errors='coerce')  # Converts & handles bad dates"
      ],
      "metadata": {
        "id": "f_Bia2CbeCKl"
      },
      "execution_count": 11,
      "outputs": []
    },
    {
      "cell_type": "code",
      "source": [
        "count = 0\n",
        "for date in data['Order Date']:\n",
        "    if pd.notna(date) and date.year == 2023:\n",
        "        count += 1\n",
        "print(f\"Total orders in 2023: {count}\")"
      ],
      "metadata": {
        "colab": {
          "base_uri": "https://localhost:8080/"
        },
        "id": "_VLacqSJgfJz",
        "outputId": "69932004-8770-4cb8-e8df-308d094a0b31"
      },
      "execution_count": 12,
      "outputs": [
        {
          "output_type": "stream",
          "name": "stdout",
          "text": [
            "Total orders in 2023: 4\n"
          ]
        }
      ]
    },
    {
      "cell_type": "code",
      "source": [
        "\t# 1.\tHow many orders were placed in the year 2023?\n",
        "\t# 2.\tWhat is the total amount spent in December across all years?\n",
        "\t# 3.\tWhich month had the highest number of orders?\n",
        "\t# 4.\tWhat day of the week gets the most orders?\n"
      ],
      "metadata": {
        "id": "68g1gx2QgnNK"
      },
      "execution_count": 13,
      "outputs": []
    },
    {
      "cell_type": "code",
      "source": [
        "print(df.columns)"
      ],
      "metadata": {
        "colab": {
          "base_uri": "https://localhost:8080/"
        },
        "id": "tl-s6QuVEEhM",
        "outputId": "a96ca1a9-c1f8-4ae2-de56-8e2a1fc83904"
      },
      "execution_count": 19,
      "outputs": [
        {
          "output_type": "stream",
          "name": "stdout",
          "text": [
            "Index(['Order ID', 'Customer', 'Order Date', 'Amount'], dtype='object')\n"
          ]
        }
      ]
    },
    {
      "cell_type": "markdown",
      "source": [],
      "metadata": {
        "id": "sCOIiz1IiJkK"
      }
    },
    {
      "cell_type": "code",
      "source": [
        "# 2.\tWhat is the total amount spent in December across all years?\n",
        "df['Order Date'] = pd.to_datetime(df['Order Date'],errors='coerce')\n",
        "# create a year column\n",
        "df['Year'] = df['Order Date'].dt.year\n",
        "print(df['Year'].value_counts())"
      ],
      "metadata": {
        "colab": {
          "base_uri": "https://localhost:8080/"
        },
        "id": "SoreNM8ciN1p",
        "outputId": "ec5ecb53-247d-432b-f325-3490b633432d"
      },
      "execution_count": 22,
      "outputs": [
        {
          "output_type": "stream",
          "name": "stdout",
          "text": [
            "Year\n",
            "2023    4\n",
            "2022    2\n",
            "Name: count, dtype: int64\n"
          ]
        }
      ]
    },
    {
      "cell_type": "code",
      "source": [
        "# 3.\tWhich month had the highest number of orders?\n",
        "import calendar\n",
        "# convert string into date time object\n",
        "df['Order Date'] = pd.to_datetime(df['Order Date'],errors='coerce')\n",
        "\n",
        "# create a month column\n",
        "df['Month'] = df['Order Date'].dt.month\n",
        "\n",
        "# count how many orders per month\n",
        "month_count = df[\"Month\"].value_counts()\n",
        "\n",
        "#Get the month with highest orders per month\n",
        "max_month = month_count.idxmax()\n",
        "max_order = month_count.max()\n",
        "\n",
        "month_name = calendar.month_name[max_month]\n",
        "\n",
        "print(f\"The highest order is {max_order} and is in {month_name} month.\")\n",
        "\n"
      ],
      "metadata": {
        "colab": {
          "base_uri": "https://localhost:8080/"
        },
        "id": "ZSVj7CxKkA7T",
        "outputId": "1addcb33-1073-4025-f60f-3d4cbcf69e95"
      },
      "execution_count": 32,
      "outputs": [
        {
          "output_type": "stream",
          "name": "stdout",
          "text": [
            "The highest order is 3 and is in December month.\n"
          ]
        }
      ]
    },
    {
      "cell_type": "code",
      "source": [
        "# What day of the week gets the most orders?\n",
        "df['Order Date'] = pd.to_datetime(df['Order Date'],errors='coerce')\n",
        "\n",
        "# create the date column\n",
        "df['DayOfWeek'] = df['Order Date'].dt.day_name()\n",
        "# print(df[\"DayOfWeek\"])\n",
        "\n",
        "#Get the day of highest order\n",
        "day_count = df['DayOfWeek'].value_counts()\n",
        "\n",
        "\n",
        "max_order_day = day_count.idxmax()\n",
        "\n",
        "max_order = day_count.max()\n",
        "\n",
        "print(f\"The maximum order i.e {max_order} is on {max_order_day}\")"
      ],
      "metadata": {
        "colab": {
          "base_uri": "https://localhost:8080/"
        },
        "id": "8g8GfmgzFBch",
        "outputId": "637dcdb0-99be-4063-90ff-aa7ace28ea31"
      },
      "execution_count": 49,
      "outputs": [
        {
          "output_type": "stream",
          "name": "stdout",
          "text": [
            "The maximum order i.e 2 is on Thursday\n"
          ]
        }
      ]
    },
    {
      "cell_type": "code",
      "source": [],
      "metadata": {
        "id": "1AQZ2NcwOVyo"
      },
      "execution_count": null,
      "outputs": []
    }
  ]
}
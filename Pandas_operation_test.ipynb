{
  "nbformat": 4,
  "nbformat_minor": 0,
  "metadata": {
    "colab": {
      "provenance": [],
      "authorship_tag": "ABX9TyOk9ZuuE37J2hIZ5vO0dCii",
      "include_colab_link": true
    },
    "kernelspec": {
      "name": "python3",
      "display_name": "Python 3"
    },
    "language_info": {
      "name": "python"
    }
  },
  "cells": [
    {
      "cell_type": "markdown",
      "metadata": {
        "id": "view-in-github",
        "colab_type": "text"
      },
      "source": [
        "<a href=\"https://colab.research.google.com/github/avinashsingh16/daily-python-numpy-pandas/blob/main/Pandas_operation_test.ipynb\" target=\"_parent\"><img src=\"https://colab.research.google.com/assets/colab-badge.svg\" alt=\"Open In Colab\"/></a>"
      ]
    },
    {
      "cell_type": "code",
      "execution_count": 6,
      "metadata": {
        "id": "Qu-IvuD0cBOC"
      },
      "outputs": [],
      "source": [
        "import ast\n",
        "def convert_to_list(x):\n",
        "  try:\n",
        "    return ast.literal_eval(x) if isinstance(x,str) else x\n",
        "  except Exception as e:\n",
        "    print(\"Failed to parse\",x)\n",
        "    return []"
      ]
    },
    {
      "cell_type": "code",
      "source": [
        "test_1 = \"[1, 2, 3]\"\n",
        "print(convert_to_list(test_1))  # Output: [1, 2, 3]"
      ],
      "metadata": {
        "colab": {
          "base_uri": "https://localhost:8080/"
        },
        "id": "A6C03cvUdfzD",
        "outputId": "477d1496-bc55-4da8-ba60-1d34a66f2121"
      },
      "execution_count": 7,
      "outputs": [
        {
          "output_type": "stream",
          "name": "stdout",
          "text": [
            "[1, 2, 3]\n"
          ]
        }
      ]
    },
    {
      "cell_type": "code",
      "source": [
        "test_2 = \"[{'name': 'Tom'}, {'name': 'Jerry'}]\"\n",
        "print(convert_to_list(test_2))\n",
        "# Output: [{'name': 'Tom'}, {'name': 'Jerry'}]"
      ],
      "metadata": {
        "colab": {
          "base_uri": "https://localhost:8080/"
        },
        "id": "wE0kBoQmdqSX",
        "outputId": "dd035eb6-3e9f-4533-d2ab-6f3b1490799a"
      },
      "execution_count": 8,
      "outputs": [
        {
          "output_type": "stream",
          "name": "stdout",
          "text": [
            "[{'name': 'Tom'}, {'name': 'Jerry'}]\n"
          ]
        }
      ]
    },
    {
      "cell_type": "code",
      "source": [
        "test_3 = \"[1, 2, \"   # This is an incomplete list (error!)\n",
        "print(convert_to_list(test_3))\n",
        "# Output: Failed to parse: [1, 2,\n",
        "#         []"
      ],
      "metadata": {
        "colab": {
          "base_uri": "https://localhost:8080/"
        },
        "id": "wbAAjJE0d_s6",
        "outputId": "714240ae-74f8-4142-ebfc-47aeabdc5222"
      },
      "execution_count": 9,
      "outputs": [
        {
          "output_type": "stream",
          "name": "stdout",
          "text": [
            "Failed to parse [1, 2, \n",
            "[]\n"
          ]
        }
      ]
    },
    {
      "cell_type": "code",
      "source": [
        "test_4 = [4, 5, 6]\n",
        "print(convert_to_list(test_4))  # Output: [4, 5, 6]"
      ],
      "metadata": {
        "colab": {
          "base_uri": "https://localhost:8080/"
        },
        "id": "bAnUjd4keDn8",
        "outputId": "d396ce06-778b-4ac0-b2aa-1db9ae14caa4"
      },
      "execution_count": 10,
      "outputs": [
        {
          "output_type": "stream",
          "name": "stdout",
          "text": [
            "[4, 5, 6]\n"
          ]
        }
      ]
    },
    {
      "cell_type": "code",
      "source": [
        "test_5 = \"Hello World\"\n",
        "print(convert_to_list(test_5))\n",
        "# Output: Failed to parse: Hello World\n",
        "#         []"
      ],
      "metadata": {
        "colab": {
          "base_uri": "https://localhost:8080/"
        },
        "id": "Bc6mlxSFeIyF",
        "outputId": "b37f4b30-a6a3-4c02-867e-8b2a6d2213a9"
      },
      "execution_count": 11,
      "outputs": [
        {
          "output_type": "stream",
          "name": "stdout",
          "text": [
            "Failed to parse Hello World\n",
            "[]\n"
          ]
        }
      ]
    },
    {
      "cell_type": "code",
      "source": [],
      "metadata": {
        "id": "_RKMQjU_eMyx"
      },
      "execution_count": null,
      "outputs": []
    }
  ]
}
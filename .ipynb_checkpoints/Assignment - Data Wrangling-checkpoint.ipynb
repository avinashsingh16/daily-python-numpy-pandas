{
 "cells": [
  {
   "cell_type": "markdown",
   "metadata": {
    "id": "WEPecVgEVrP_"
   },
   "source": [
    "## <u> Use only those concepts which have been taught till now </u>"
   ]
  },
  {
   "cell_type": "markdown",
   "metadata": {
    "id": "UCW8FaGk-pd0"
   },
   "source": [
    "# <b><u> Problem 1: </u> Which actor has acted in the most number of movies? Deep dive into the movies, genres and profits corresponding to this actor. </b>"
   ]
  },
  {
   "cell_type": "code",
   "execution_count": 440,
   "metadata": {},
   "outputs": [],
   "source": [
    "import pandas as pd\n",
    "import numpy as np\n",
    "imdb_df = pd.read_csv('imdb_data.csv')"
   ]
  },
  {
   "cell_type": "code",
   "execution_count": 441,
   "metadata": {
    "id": "jI39LRd3-pd2"
   },
   "outputs": [
    {
     "data": {
      "text/plain": [
       "(3000, 23)"
      ]
     },
     "execution_count": 441,
     "metadata": {},
     "output_type": "execute_result"
    }
   ],
   "source": [
    "# Your code here\n",
    "imdb_df.head\n",
    "imdb_df.shape\n"
   ]
  },
  {
   "cell_type": "code",
   "execution_count": 442,
   "metadata": {},
   "outputs": [
    {
     "data": {
      "text/plain": [
       "0                          [{'id': 35, 'name': 'Comedy'}]\n",
       "1       [{'id': 35, 'name': 'Comedy'}, {'id': 18, 'nam...\n",
       "2                           [{'id': 18, 'name': 'Drama'}]\n",
       "3       [{'id': 53, 'name': 'Thriller'}, {'id': 18, 'n...\n",
       "4       [{'id': 28, 'name': 'Action'}, {'id': 53, 'nam...\n",
       "                              ...                        \n",
       "2995    [{'id': 35, 'name': 'Comedy'}, {'id': 10749, '...\n",
       "2996    [{'id': 18, 'name': 'Drama'}, {'id': 10402, 'n...\n",
       "2997    [{'id': 80, 'name': 'Crime'}, {'id': 28, 'name...\n",
       "2998    [{'id': 35, 'name': 'Comedy'}, {'id': 10749, '...\n",
       "2999    [{'id': 53, 'name': 'Thriller'}, {'id': 28, 'n...\n",
       "Name: genres, Length: 2993, dtype: object"
      ]
     },
     "execution_count": 442,
     "metadata": {},
     "output_type": "execute_result"
    }
   ],
   "source": [
    "imdb_df.loc[~imdb_df['genres'].isna(),'genres']"
   ]
  },
  {
   "cell_type": "code",
   "execution_count": 443,
   "metadata": {},
   "outputs": [
    {
     "data": {
      "text/plain": [
       "str"
      ]
     },
     "execution_count": 443,
     "metadata": {},
     "output_type": "execute_result"
    }
   ],
   "source": [
    "type(imdb_df.loc[0,'cast'])"
   ]
  },
  {
   "cell_type": "code",
   "execution_count": 444,
   "metadata": {},
   "outputs": [],
   "source": [
    "# eval() convert string type in to different type like from str to list and str to dict\n",
    "# (eval(imdb_df.loc[0,'cast']))"
   ]
  },
  {
   "cell_type": "code",
   "execution_count": 445,
   "metadata": {},
   "outputs": [],
   "source": [
    "#convert str in to list\n",
    "def convert_string_to_list(str):\n",
    "    return eval(str)"
   ]
  },
  {
   "cell_type": "code",
   "execution_count": 446,
   "metadata": {},
   "outputs": [
    {
     "data": {
      "text/plain": [
       "Index(['id', 'belongs_to_collection', 'budget', 'genres', 'homepage',\n",
       "       'imdb_id', 'original_language', 'original_title', 'overview',\n",
       "       'popularity', 'poster_path', 'production_companies',\n",
       "       'production_countries', 'release_date', 'runtime', 'spoken_languages',\n",
       "       'status', 'tagline', 'title', 'Keywords', 'cast', 'crew', 'revenue'],\n",
       "      dtype='object')"
      ]
     },
     "execution_count": 446,
     "metadata": {},
     "output_type": "execute_result"
    }
   ],
   "source": [
    "imdb_df.columns"
   ]
  },
  {
   "cell_type": "code",
   "execution_count": 447,
   "metadata": {},
   "outputs": [],
   "source": [
    "# these are the columns which we need for given question\n",
    "column_to_keep = [\"budget\",'genres','imdb_id','cast','crew','original_language','original_title','revenue']"
   ]
  },
  {
   "cell_type": "code",
   "execution_count": 448,
   "metadata": {},
   "outputs": [
    {
     "name": "stdout",
     "output_type": "stream",
     "text": [
      "<class 'pandas.core.frame.DataFrame'>\n",
      "RangeIndex: 3000 entries, 0 to 2999\n",
      "Data columns (total 8 columns):\n",
      " #   Column             Non-Null Count  Dtype \n",
      "---  ------             --------------  ----- \n",
      " 0   budget             3000 non-null   int64 \n",
      " 1   genres             2993 non-null   object\n",
      " 2   imdb_id            3000 non-null   object\n",
      " 3   cast               2987 non-null   object\n",
      " 4   crew               2984 non-null   object\n",
      " 5   original_language  3000 non-null   object\n",
      " 6   original_title     3000 non-null   object\n",
      " 7   revenue            3000 non-null   int64 \n",
      "dtypes: int64(2), object(6)\n",
      "memory usage: 187.6+ KB\n"
     ]
    }
   ],
   "source": [
    "imdb_df = imdb_df[column_to_keep]\n",
    "imdb_df.info()"
   ]
  },
  {
   "cell_type": "code",
   "execution_count": 449,
   "metadata": {},
   "outputs": [],
   "source": [
    "# Drop the null observation\n",
    "# Apply the above function to three columns: genres,cast and crew\n",
    "imdb_df.loc[~imdb_df['genres'].isna(),'genres'] = imdb_df.loc[~imdb_df['genres'].isna(),'genres'].apply(convert_string_to_list)"
   ]
  },
  {
   "cell_type": "code",
   "execution_count": 450,
   "metadata": {},
   "outputs": [
    {
     "data": {
      "text/plain": [
       "[{'id': 35, 'name': 'Comedy'}]"
      ]
     },
     "execution_count": 450,
     "metadata": {},
     "output_type": "execute_result"
    }
   ],
   "source": [
    "imdb_df.loc[0,'genres']"
   ]
  },
  {
   "cell_type": "code",
   "execution_count": 451,
   "metadata": {},
   "outputs": [],
   "source": [
    "# Apply the above function to column cast\n",
    "imdb_df.loc[~imdb_df['cast'].isna(),'cast'] = imdb_df.loc[~imdb_df['cast'].isna(),'cast'].apply(convert_string_to_list)"
   ]
  },
  {
   "cell_type": "code",
   "execution_count": 452,
   "metadata": {},
   "outputs": [],
   "source": [
    "# Apply the above function to column crew\n",
    "imdb_df.loc[~imdb_df['crew'].isna(),'crew'] = imdb_df.loc[~imdb_df['crew'].isna(),'crew'].apply(convert_string_to_list)"
   ]
  },
  {
   "cell_type": "code",
   "execution_count": 453,
   "metadata": {},
   "outputs": [],
   "source": [
    "# imdb_df.loc[0,'cast']"
   ]
  },
  {
   "cell_type": "code",
   "execution_count": 454,
   "metadata": {},
   "outputs": [],
   "source": [
    "# imdb_df.loc[0,'crew']"
   ]
  },
  {
   "cell_type": "code",
   "execution_count": 455,
   "metadata": {},
   "outputs": [
    {
     "data": {
      "text/plain": [
       "<bound method DataFrame.info of         budget                                             genres    imdb_id  \\\n",
       "0     14000000                     [{'id': 35, 'name': 'Comedy'}]  tt2637294   \n",
       "1     40000000  [{'id': 35, 'name': 'Comedy'}, {'id': 18, 'nam...  tt0368933   \n",
       "2      3300000                      [{'id': 18, 'name': 'Drama'}]  tt2582802   \n",
       "3      1200000  [{'id': 53, 'name': 'Thriller'}, {'id': 18, 'n...  tt1821480   \n",
       "4            0  [{'id': 28, 'name': 'Action'}, {'id': 53, 'nam...  tt1380152   \n",
       "...        ...                                                ...        ...   \n",
       "2995         0  [{'id': 35, 'name': 'Comedy'}, {'id': 10749, '...  tt0109403   \n",
       "2996         0  [{'id': 18, 'name': 'Drama'}, {'id': 10402, 'n...  tt2364975   \n",
       "2997  65000000  [{'id': 80, 'name': 'Crime'}, {'id': 28, 'name...  tt0116908   \n",
       "2998  42000000  [{'id': 35, 'name': 'Comedy'}, {'id': 10749, '...  tt0343135   \n",
       "2999  35000000  [{'id': 53, 'name': 'Thriller'}, {'id': 28, 'n...  tt1600195   \n",
       "\n",
       "                                                   cast  \\\n",
       "0     [{'cast_id': 4, 'character': 'Lou', 'credit_id...   \n",
       "1     [{'cast_id': 1, 'character': 'Mia Thermopolis'...   \n",
       "2     [{'cast_id': 5, 'character': 'Andrew Neimann',...   \n",
       "3     [{'cast_id': 1, 'character': 'Vidya Bagchi', '...   \n",
       "4     [{'cast_id': 3, 'character': 'Chun-soo', 'cred...   \n",
       "...                                                 ...   \n",
       "2995  [{'cast_id': 2, 'character': 'Rock Reilly', 'c...   \n",
       "2996  [{'cast_id': 5, 'character': 'Bobo', 'credit_i...   \n",
       "2997  [{'cast_id': 10, 'character': 'Samantha Caine ...   \n",
       "2998  [{'cast_id': 8, 'character': 'Reuben Feffer', ...   \n",
       "2999  [{'cast_id': 2, 'character': 'Nathan Harper', ...   \n",
       "\n",
       "                                                   crew original_language  \\\n",
       "0     [{'credit_id': '59ac067c92514107af02c8c8', 'de...                en   \n",
       "1     [{'credit_id': '52fe43fe9251416c7502563d', 'de...                en   \n",
       "2     [{'credit_id': '54d5356ec3a3683ba0000039', 'de...                en   \n",
       "3     [{'credit_id': '52fe48779251416c9108d6eb', 'de...                hi   \n",
       "4     [{'credit_id': '52fe464b9251416c75073b43', 'de...                ko   \n",
       "...                                                 ...               ...   \n",
       "2995  [{'credit_id': '52fe4494c3a368484e02ac7d', 'de...                en   \n",
       "2996  [{'credit_id': '5716b72ac3a3686678012c84', 'de...                sv   \n",
       "2997  [{'credit_id': '52fe443a9251416c7502d579', 'de...                en   \n",
       "2998  [{'credit_id': '556f817b9251410866000a63', 'de...                en   \n",
       "2999  [{'credit_id': '5391990d0e0a260fb5001629', 'de...                en   \n",
       "\n",
       "                                original_title    revenue  \n",
       "0                       Hot Tub Time Machine 2   12314651  \n",
       "1     The Princess Diaries 2: Royal Engagement   95149435  \n",
       "2                                     Whiplash   13092000  \n",
       "3                                      Kahaani   16000000  \n",
       "4                                         마린보이    3923970  \n",
       "...                                        ...        ...  \n",
       "2995                                   Chasers    1596687  \n",
       "2996                               Vi är bäst!     180590  \n",
       "2997                   The Long Kiss Goodnight   89456761  \n",
       "2998                          Along Came Polly  171963386  \n",
       "2999                                 Abduction   82087155  \n",
       "\n",
       "[3000 rows x 8 columns]>"
      ]
     },
     "execution_count": 455,
     "metadata": {},
     "output_type": "execute_result"
    }
   ],
   "source": [
    "#make a copy of dataframe\n",
    "imdb_df_new = imdb_df.copy()\n",
    "imdb_df_new.shape\n",
    "imdb_df_new.info"
   ]
  },
  {
   "cell_type": "code",
   "execution_count": 456,
   "metadata": {},
   "outputs": [
    {
     "data": {
      "text/html": [
       "<div>\n",
       "<style scoped>\n",
       "    .dataframe tbody tr th:only-of-type {\n",
       "        vertical-align: middle;\n",
       "    }\n",
       "\n",
       "    .dataframe tbody tr th {\n",
       "        vertical-align: top;\n",
       "    }\n",
       "\n",
       "    .dataframe thead th {\n",
       "        text-align: right;\n",
       "    }\n",
       "</style>\n",
       "<table border=\"1\" class=\"dataframe\">\n",
       "  <thead>\n",
       "    <tr style=\"text-align: right;\">\n",
       "      <th></th>\n",
       "      <th>budget</th>\n",
       "      <th>genres</th>\n",
       "      <th>imdb_id</th>\n",
       "      <th>cast</th>\n",
       "      <th>crew</th>\n",
       "      <th>original_language</th>\n",
       "      <th>original_title</th>\n",
       "      <th>revenue</th>\n",
       "    </tr>\n",
       "  </thead>\n",
       "  <tbody>\n",
       "    <tr>\n",
       "      <th>470</th>\n",
       "      <td>2000000</td>\n",
       "      <td>NaN</td>\n",
       "      <td>tt0349159</td>\n",
       "      <td>[{'cast_id': 1, 'character': 'Sam', 'credit_id...</td>\n",
       "      <td>NaN</td>\n",
       "      <td>en</td>\n",
       "      <td>The Book of Mormon Movie, Volume 1: The Journey</td>\n",
       "      <td>1672730</td>\n",
       "    </tr>\n",
       "    <tr>\n",
       "      <th>1622</th>\n",
       "      <td>400000</td>\n",
       "      <td>NaN</td>\n",
       "      <td>tt0261755</td>\n",
       "      <td>[{'cast_id': 4, 'character': '', 'credit_id': ...</td>\n",
       "      <td>[{'credit_id': '52fe4d3c9251416c9110f319', 'de...</td>\n",
       "      <td>en</td>\n",
       "      <td>Jackpot</td>\n",
       "      <td>43719</td>\n",
       "    </tr>\n",
       "    <tr>\n",
       "      <th>1814</th>\n",
       "      <td>2700000</td>\n",
       "      <td>NaN</td>\n",
       "      <td>tt0110289</td>\n",
       "      <td>[]</td>\n",
       "      <td>[{'credit_id': '52fe4c139251416c910eeee3', 'de...</td>\n",
       "      <td>it</td>\n",
       "      <td>Курочка Ряба</td>\n",
       "      <td>4635143</td>\n",
       "    </tr>\n",
       "    <tr>\n",
       "      <th>1819</th>\n",
       "      <td>0</td>\n",
       "      <td>NaN</td>\n",
       "      <td>tt0352622</td>\n",
       "      <td>[{'cast_id': 2, 'character': '', 'credit_id': ...</td>\n",
       "      <td>[{'credit_id': '52fe4728c3a368484e0b7f53', 'de...</td>\n",
       "      <td>ru</td>\n",
       "      <td>Небо. Самолёт. Девушка.</td>\n",
       "      <td>314195</td>\n",
       "    </tr>\n",
       "    <tr>\n",
       "      <th>2423</th>\n",
       "      <td>500000</td>\n",
       "      <td>NaN</td>\n",
       "      <td>tt0984177</td>\n",
       "      <td>[{'cast_id': 1, 'character': 'Vaasu', 'credit_...</td>\n",
       "      <td>[{'credit_id': '53b42af80e0a26598c00cea3', 'de...</td>\n",
       "      <td>en</td>\n",
       "      <td>Amarkalam</td>\n",
       "      <td>500000</td>\n",
       "    </tr>\n",
       "    <tr>\n",
       "      <th>2686</th>\n",
       "      <td>0</td>\n",
       "      <td>NaN</td>\n",
       "      <td>tt0833448</td>\n",
       "      <td>[]</td>\n",
       "      <td>[{'credit_id': '57b8a5d19251411bc6000587', 'de...</td>\n",
       "      <td>ru</td>\n",
       "      <td>Лифт</td>\n",
       "      <td>123182</td>\n",
       "    </tr>\n",
       "    <tr>\n",
       "      <th>2900</th>\n",
       "      <td>200000</td>\n",
       "      <td>NaN</td>\n",
       "      <td>tt1766044</td>\n",
       "      <td>[{'cast_id': 3, 'character': '', 'credit_id': ...</td>\n",
       "      <td>[{'credit_id': '52fe4ab89251416c750ebaab', 'de...</td>\n",
       "      <td>en</td>\n",
       "      <td>Poslednyaya skazka Rity</td>\n",
       "      <td>486937</td>\n",
       "    </tr>\n",
       "  </tbody>\n",
       "</table>\n",
       "</div>"
      ],
      "text/plain": [
       "       budget genres    imdb_id  \\\n",
       "470   2000000    NaN  tt0349159   \n",
       "1622   400000    NaN  tt0261755   \n",
       "1814  2700000    NaN  tt0110289   \n",
       "1819        0    NaN  tt0352622   \n",
       "2423   500000    NaN  tt0984177   \n",
       "2686        0    NaN  tt0833448   \n",
       "2900   200000    NaN  tt1766044   \n",
       "\n",
       "                                                   cast  \\\n",
       "470   [{'cast_id': 1, 'character': 'Sam', 'credit_id...   \n",
       "1622  [{'cast_id': 4, 'character': '', 'credit_id': ...   \n",
       "1814                                                 []   \n",
       "1819  [{'cast_id': 2, 'character': '', 'credit_id': ...   \n",
       "2423  [{'cast_id': 1, 'character': 'Vaasu', 'credit_...   \n",
       "2686                                                 []   \n",
       "2900  [{'cast_id': 3, 'character': '', 'credit_id': ...   \n",
       "\n",
       "                                                   crew original_language  \\\n",
       "470                                                 NaN                en   \n",
       "1622  [{'credit_id': '52fe4d3c9251416c9110f319', 'de...                en   \n",
       "1814  [{'credit_id': '52fe4c139251416c910eeee3', 'de...                it   \n",
       "1819  [{'credit_id': '52fe4728c3a368484e0b7f53', 'de...                ru   \n",
       "2423  [{'credit_id': '53b42af80e0a26598c00cea3', 'de...                en   \n",
       "2686  [{'credit_id': '57b8a5d19251411bc6000587', 'de...                ru   \n",
       "2900  [{'credit_id': '52fe4ab89251416c750ebaab', 'de...                en   \n",
       "\n",
       "                                       original_title  revenue  \n",
       "470   The Book of Mormon Movie, Volume 1: The Journey  1672730  \n",
       "1622                                          Jackpot    43719  \n",
       "1814                                     Курочка Ряба  4635143  \n",
       "1819                          Небо. Самолёт. Девушка.   314195  \n",
       "2423                                        Amarkalam   500000  \n",
       "2686                                             Лифт   123182  \n",
       "2900                          Poslednyaya skazka Rity   486937  "
      ]
     },
     "execution_count": 456,
     "metadata": {},
     "output_type": "execute_result"
    }
   ],
   "source": [
    "imdb_df_new[imdb_df['genres'].isna()]"
   ]
  },
  {
   "cell_type": "code",
   "execution_count": 457,
   "metadata": {},
   "outputs": [
    {
     "data": {
      "text/html": [
       "<div>\n",
       "<style scoped>\n",
       "    .dataframe tbody tr th:only-of-type {\n",
       "        vertical-align: middle;\n",
       "    }\n",
       "\n",
       "    .dataframe tbody tr th {\n",
       "        vertical-align: top;\n",
       "    }\n",
       "\n",
       "    .dataframe thead th {\n",
       "        text-align: right;\n",
       "    }\n",
       "</style>\n",
       "<table border=\"1\" class=\"dataframe\">\n",
       "  <thead>\n",
       "    <tr style=\"text-align: right;\">\n",
       "      <th></th>\n",
       "      <th>budget</th>\n",
       "      <th>revenue</th>\n",
       "    </tr>\n",
       "  </thead>\n",
       "  <tbody>\n",
       "    <tr>\n",
       "      <th>count</th>\n",
       "      <td>3.000000e+03</td>\n",
       "      <td>3.000000e+03</td>\n",
       "    </tr>\n",
       "    <tr>\n",
       "      <th>mean</th>\n",
       "      <td>2.253133e+07</td>\n",
       "      <td>6.672585e+07</td>\n",
       "    </tr>\n",
       "    <tr>\n",
       "      <th>std</th>\n",
       "      <td>3.702609e+07</td>\n",
       "      <td>1.375323e+08</td>\n",
       "    </tr>\n",
       "    <tr>\n",
       "      <th>min</th>\n",
       "      <td>0.000000e+00</td>\n",
       "      <td>1.000000e+00</td>\n",
       "    </tr>\n",
       "    <tr>\n",
       "      <th>25%</th>\n",
       "      <td>0.000000e+00</td>\n",
       "      <td>2.379808e+06</td>\n",
       "    </tr>\n",
       "    <tr>\n",
       "      <th>50%</th>\n",
       "      <td>8.000000e+06</td>\n",
       "      <td>1.680707e+07</td>\n",
       "    </tr>\n",
       "    <tr>\n",
       "      <th>75%</th>\n",
       "      <td>2.900000e+07</td>\n",
       "      <td>6.891920e+07</td>\n",
       "    </tr>\n",
       "    <tr>\n",
       "      <th>max</th>\n",
       "      <td>3.800000e+08</td>\n",
       "      <td>1.519558e+09</td>\n",
       "    </tr>\n",
       "  </tbody>\n",
       "</table>\n",
       "</div>"
      ],
      "text/plain": [
       "             budget       revenue\n",
       "count  3.000000e+03  3.000000e+03\n",
       "mean   2.253133e+07  6.672585e+07\n",
       "std    3.702609e+07  1.375323e+08\n",
       "min    0.000000e+00  1.000000e+00\n",
       "25%    0.000000e+00  2.379808e+06\n",
       "50%    8.000000e+06  1.680707e+07\n",
       "75%    2.900000e+07  6.891920e+07\n",
       "max    3.800000e+08  1.519558e+09"
      ]
     },
     "execution_count": 457,
     "metadata": {},
     "output_type": "execute_result"
    }
   ],
   "source": [
    "imdb_df_new.describe()"
   ]
  },
  {
   "cell_type": "markdown",
   "metadata": {},
   "source": [
    "1. Which movie made the highest profit? Who were its producer and director? Identify the actors in that film.\n"
   ]
  },
  {
   "cell_type": "code",
   "execution_count": 459,
   "metadata": {},
   "outputs": [],
   "source": [
    "# replace low value of budget and revenue with the median\n",
    "imdb_df_new.loc[imdb_df_new['budget'] < 1000,'budget'] = imdb_df_new.loc[imdb_df_new['budget'] >= 1000,'budget'].median()\n",
    "imdb_df_new.loc[imdb_df_new['revenue'] < 1000,'revenue'] = imdb_df_new.loc[imdb_df_new['revenue'] >= 1000,'revenue'].median()"
   ]
  },
  {
   "cell_type": "code",
   "execution_count": 460,
   "metadata": {},
   "outputs": [
    {
     "data": {
      "text/html": [
       "<div>\n",
       "<style scoped>\n",
       "    .dataframe tbody tr th:only-of-type {\n",
       "        vertical-align: middle;\n",
       "    }\n",
       "\n",
       "    .dataframe tbody tr th {\n",
       "        vertical-align: top;\n",
       "    }\n",
       "\n",
       "    .dataframe thead th {\n",
       "        text-align: right;\n",
       "    }\n",
       "</style>\n",
       "<table border=\"1\" class=\"dataframe\">\n",
       "  <thead>\n",
       "    <tr style=\"text-align: right;\">\n",
       "      <th></th>\n",
       "      <th>budget</th>\n",
       "      <th>revenue</th>\n",
       "    </tr>\n",
       "  </thead>\n",
       "  <tbody>\n",
       "    <tr>\n",
       "      <th>count</th>\n",
       "      <td>3.000000e+03</td>\n",
       "      <td>3.000000e+03</td>\n",
       "    </tr>\n",
       "    <tr>\n",
       "      <th>mean</th>\n",
       "      <td>2.708250e+07</td>\n",
       "      <td>6.705811e+07</td>\n",
       "    </tr>\n",
       "    <tr>\n",
       "      <th>std</th>\n",
       "      <td>3.492773e+07</td>\n",
       "      <td>1.373917e+08</td>\n",
       "    </tr>\n",
       "    <tr>\n",
       "      <th>min</th>\n",
       "      <td>2.500000e+03</td>\n",
       "      <td>1.404000e+03</td>\n",
       "    </tr>\n",
       "    <tr>\n",
       "      <th>25%</th>\n",
       "      <td>1.000000e+07</td>\n",
       "      <td>2.947600e+06</td>\n",
       "    </tr>\n",
       "    <tr>\n",
       "      <th>50%</th>\n",
       "      <td>1.645000e+07</td>\n",
       "      <td>1.748753e+07</td>\n",
       "    </tr>\n",
       "    <tr>\n",
       "      <th>75%</th>\n",
       "      <td>2.900000e+07</td>\n",
       "      <td>6.891920e+07</td>\n",
       "    </tr>\n",
       "    <tr>\n",
       "      <th>max</th>\n",
       "      <td>3.800000e+08</td>\n",
       "      <td>1.519558e+09</td>\n",
       "    </tr>\n",
       "  </tbody>\n",
       "</table>\n",
       "</div>"
      ],
      "text/plain": [
       "             budget       revenue\n",
       "count  3.000000e+03  3.000000e+03\n",
       "mean   2.708250e+07  6.705811e+07\n",
       "std    3.492773e+07  1.373917e+08\n",
       "min    2.500000e+03  1.404000e+03\n",
       "25%    1.000000e+07  2.947600e+06\n",
       "50%    1.645000e+07  1.748753e+07\n",
       "75%    2.900000e+07  6.891920e+07\n",
       "max    3.800000e+08  1.519558e+09"
      ]
     },
     "execution_count": 460,
     "metadata": {},
     "output_type": "execute_result"
    }
   ],
   "source": [
    "imdb_df_new.describe()\n"
   ]
  },
  {
   "cell_type": "code",
   "execution_count": 461,
   "metadata": {},
   "outputs": [],
   "source": [
    "imdb_df_new['profit'] = imdb_df_new['revenue']-imdb_df_new['budget']"
   ]
  },
  {
   "cell_type": "code",
   "execution_count": 462,
   "metadata": {},
   "outputs": [
    {
     "data": {
      "text/plain": [
       "1316249360"
      ]
     },
     "execution_count": 462,
     "metadata": {},
     "output_type": "execute_result"
    }
   ],
   "source": [
    "max_profit = imdb_df_new['profit'].max()\n",
    "max_profit"
   ]
  },
  {
   "cell_type": "code",
   "execution_count": null,
   "metadata": {},
   "outputs": [],
   "source": []
  },
  {
   "cell_type": "code",
   "execution_count": 463,
   "metadata": {},
   "outputs": [],
   "source": [
    "max_profit_movie_df = imdb_df_new[imdb_df_new['profit']==max_profit]"
   ]
  },
  {
   "cell_type": "code",
   "execution_count": 464,
   "metadata": {},
   "outputs": [],
   "source": [
    "# creating a crew list : list of crew member dictionaries\n",
    "crew_list = max_profit_movie_df.iloc[0]['crew']\n",
    "# (crew_list)"
   ]
  },
  {
   "cell_type": "code",
   "execution_count": 465,
   "metadata": {},
   "outputs": [],
   "source": [
    "# Get the names of producer and director\n",
    "producer_list = []\n",
    "director_list = []\n",
    "for elem in crew_list:\n",
    "    if elem['job']=='Producer':\n",
    "       producer_list.append(elem['name'])\n",
    "\n",
    "    if elem['job']=='Director':\n",
    "        director_list.append(elem['name'])\n",
    "\n",
    "   "
   ]
  },
  {
   "cell_type": "code",
   "execution_count": 466,
   "metadata": {},
   "outputs": [
    {
     "data": {
      "text/plain": [
       "(['Vin Diesel', 'Neal H. Moritz', 'Michael Fottrell', 'Brandon Birtell'],\n",
       " ['James Wan'])"
      ]
     },
     "execution_count": 466,
     "metadata": {},
     "output_type": "execute_result"
    }
   ],
   "source": [
    "producer_list,director_list"
   ]
  },
  {
   "cell_type": "markdown",
   "metadata": {},
   "source": [
    "## Get the actors for the highest grossing movie"
   ]
  },
  {
   "cell_type": "code",
   "execution_count": 468,
   "metadata": {},
   "outputs": [],
   "source": [
    "cast_list = max_profit_movie_df.iloc[0]['cast']"
   ]
  },
  {
   "cell_type": "code",
   "execution_count": 469,
   "metadata": {},
   "outputs": [],
   "source": [
    "list_of_actor = []\n",
    "\n",
    "for elem in cast_list:\n",
    "    list_of_actor.append(elem['name'])\n",
    "\n",
    "    "
   ]
  },
  {
   "cell_type": "code",
   "execution_count": 470,
   "metadata": {},
   "outputs": [
    {
     "data": {
      "text/plain": [
       "['Vin Diesel',\n",
       " 'Paul Walker',\n",
       " 'Dwayne Johnson',\n",
       " 'Michelle Rodriguez',\n",
       " 'Tyrese Gibson',\n",
       " 'Ludacris',\n",
       " 'Jordana Brewster',\n",
       " 'Djimon Hounsou',\n",
       " 'Tony Jaa',\n",
       " 'Ronda Rousey',\n",
       " 'Nathalie Emmanuel',\n",
       " 'Kurt Russell',\n",
       " 'Jason Statham',\n",
       " 'Sung Kang',\n",
       " 'Gal Gadot',\n",
       " 'Lucas Black',\n",
       " 'Elsa Pataky',\n",
       " 'Noel Gugliemi',\n",
       " 'John Brotherton',\n",
       " 'Luke Evans',\n",
       " 'Ali Fazal',\n",
       " 'Miller Kimsey',\n",
       " 'Charlie Kimsey',\n",
       " 'Eden Estrella',\n",
       " 'Gentry White',\n",
       " 'Iggy Azalea',\n",
       " 'Jon Lee Brody',\n",
       " 'Levy Tran',\n",
       " 'Anna Colwell',\n",
       " 'Viktor Hernandez',\n",
       " 'Steve Coulter',\n",
       " 'Robert Pralgo',\n",
       " 'Antwan Mills',\n",
       " 'J.J. Phillips',\n",
       " 'Jorge Ferragut',\n",
       " 'Sara Sohn',\n",
       " 'Benjamin Blankenship',\n",
       " 'D.J. Hapa',\n",
       " 'T-Pain',\n",
       " 'Brian Mahoney',\n",
       " 'Brittney Alger',\n",
       " 'Romeo Santos',\n",
       " 'Jocelin Donahue',\n",
       " 'Stephanie Langston',\n",
       " 'Jorge-Luis Pallo',\n",
       " 'Tego Calder√≥n',\n",
       " 'Nathalie Kelley',\n",
       " 'Shad Moss',\n",
       " 'Don Omar',\n",
       " 'Klement Tinaj',\n",
       " 'Caleb Walker',\n",
       " 'Cody Walker']"
      ]
     },
     "execution_count": 470,
     "metadata": {},
     "output_type": "execute_result"
    }
   ],
   "source": [
    "list_of_actor"
   ]
  },
  {
   "cell_type": "markdown",
   "metadata": {},
   "source": [
    "## This data has information about movies made in different languages. Which language has the highest average ROI (return on investment)? ¶"
   ]
  },
  {
   "cell_type": "code",
   "execution_count": 472,
   "metadata": {},
   "outputs": [],
   "source": [
    "imdb_df_new['roi']= 100 * imdb_df_new['profit']/imdb_df_new['budget']\n"
   ]
  },
  {
   "cell_type": "code",
   "execution_count": 504,
   "metadata": {},
   "outputs": [
    {
     "data": {
      "text/plain": [
       "Index(['budget', 'genres', 'imdb_id', 'cast', 'crew', 'original_language',\n",
       "       'original_title', 'revenue', 'profit', 'roi'],\n",
       "      dtype='object')"
      ]
     },
     "execution_count": 504,
     "metadata": {},
     "output_type": "execute_result"
    }
   ],
   "source": [
    "max_roi = imdb_df_new['roi'].max()\n",
    "imdb_df_new.columns"
   ]
  },
  {
   "cell_type": "markdown",
   "metadata": {},
   "source": [
    "## we will groupby on the original language and calculate the mean of roi "
   ]
  },
  {
   "cell_type": "code",
   "execution_count": 510,
   "metadata": {},
   "outputs": [],
   "source": [
    "roi_languages_df = imdb_df_new.groupby('original_language')['roi'].mean().reset_index()"
   ]
  },
  {
   "cell_type": "code",
   "execution_count": 515,
   "metadata": {},
   "outputs": [],
   "source": [
    "max_roi_lan = roi_languages_df[roi_languages_df['roi']==roi_languages_df['roi'].max()]"
   ]
  },
  {
   "cell_type": "code",
   "execution_count": 518,
   "metadata": {},
   "outputs": [
    {
     "name": "stdout",
     "output_type": "stream",
     "text": [
      "The language with highest average RoI is :  ko\n"
     ]
    }
   ],
   "source": [
    "print(\"The language with highest average RoI is : \",max_roi_lan[\"original_language\"].iloc[0])"
   ]
  },
  {
   "cell_type": "markdown",
   "metadata": {
    "id": "QlQXvEQN-pd9"
   },
   "source": [
    "# <b><u> Problem 2 :</u> Top 3 directors prefer which actors the most?"
   ]
  },
  {
   "cell_type": "code",
   "execution_count": null,
   "metadata": {},
   "outputs": [],
   "source": []
  },
  {
   "cell_type": "code",
   "execution_count": 265,
   "metadata": {
    "id": "NE9RPJOcSgSM"
   },
   "outputs": [
    {
     "ename": "NameError",
     "evalue": "name 'm' is not defined",
     "output_type": "error",
     "traceback": [
      "\u001b[0;31m---------------------------------------------------------------------------\u001b[0m",
      "\u001b[0;31mNameError\u001b[0m                                 Traceback (most recent call last)",
      "Cell \u001b[0;32mIn[265], line 3\u001b[0m\n\u001b[1;32m      1\u001b[0m \u001b[38;5;66;03m# Your code here\u001b[39;00m\n\u001b[0;32m----> 3\u001b[0m m\n",
      "\u001b[0;31mNameError\u001b[0m: name 'm' is not defined"
     ]
    }
   ],
   "source": [
    "# Your code here\n",
    "\n",
    "m\n"
   ]
  },
  {
   "cell_type": "markdown",
   "metadata": {
    "id": "tCvG_u1vXTXh"
   },
   "source": [
    "# <b><u>Problem 3 :</u> Make a table of all the producers and directors of each movie. Find the top 3 producers who have produced movies with the highest average RoI."
   ]
  },
  {
   "cell_type": "code",
   "execution_count": null,
   "metadata": {
    "id": "sMkh6DPCQRxr"
   },
   "outputs": [],
   "source": [
    "# Hint below: Create a dataframe which looks like as shown\n",
    "# DataFrame1\n",
    "Movie    Producers     Directors\n",
    "\n",
    "Movie1    [p1, p2]     [d1, d2]\n",
    "Movie2    [p3, p4]     [d3, d4]\n",
    "\n",
    "# DataFrame2\n",
    "Movie    Producers       ROI\n",
    "Movie1     p1            12\n",
    "Movie1     p2            13\n",
    "Movie2     p3            14\n",
    "movie2     p4            15\n",
    "\n",
    "# DataFrame3\n",
    "Producer   Movies         Average_ROI\n",
    "p1.    [m1, m2, m3]    avg_roi(m1, m2, m3)\n",
    "p2     [m2, m4, m5]    avg_roi(m2, m4, m5)"
   ]
  },
  {
   "cell_type": "code",
   "execution_count": null,
   "metadata": {
    "id": "5nXIINbDia7R"
   },
   "outputs": [],
   "source": [
    "# Your code here\n",
    "\n",
    "\n",
    "\n"
   ]
  }
 ],
 "metadata": {
  "colab": {
   "provenance": [
    {
     "file_id": "1ikbWnmUp1Azh5BFVruDP4N90NVCyofL7",
     "timestamp": 1738150964620
    },
    {
     "file_id": "1qJ54yAHpQz1gMwguvqFiVDmIQzgre7qe",
     "timestamp": 1618753261556
    },
    {
     "file_id": "1d4Hit_oKeRbM9ZmPrefh3LAzYBg9JY-7",
     "timestamp": 1613545702720
    },
    {
     "file_id": "12v2ps1X6FREl2nbX0fI4XXWpIHcdZ3Eh",
     "timestamp": 1603968847276
    }
   ]
  },
  "kernelspec": {
   "display_name": "Python [conda env:base] *",
   "language": "python",
   "name": "conda-base-py"
  },
  "language_info": {
   "codemirror_mode": {
    "name": "ipython",
    "version": 3
   },
   "file_extension": ".py",
   "mimetype": "text/x-python",
   "name": "python",
   "nbconvert_exporter": "python",
   "pygments_lexer": "ipython3",
   "version": "3.12.7"
  }
 },
 "nbformat": 4,
 "nbformat_minor": 4
}

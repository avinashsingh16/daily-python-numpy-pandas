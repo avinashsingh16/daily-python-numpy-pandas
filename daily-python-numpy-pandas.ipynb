{
 "cells": [
  {
   "cell_type": "code",
   "execution_count": 1,
   "id": "24d3ad46-edcf-47ce-8b7a-18e1fe5b3a77",
   "metadata": {},
   "outputs": [],
   "source": [
    "# lets check again"
   ]
  },
  {
   "cell_type": "code",
   "execution_count": null,
   "id": "c43c2ed1-5676-44ca-adc0-d634a56d5f4c",
   "metadata": {},
   "outputs": [],
   "source": [
    "df = pd.read_csv(data)"
   ]
  }
 ],
 "metadata": {
  "kernelspec": {
   "display_name": "Python 3 (ipykernel)",
   "language": "python",
   "name": "python3"
  },
  "language_info": {
   "codemirror_mode": {
    "name": "ipython",
    "version": 3
   },
   "file_extension": ".py",
   "mimetype": "text/x-python",
   "name": "python",
   "nbconvert_exporter": "python",
   "pygments_lexer": "ipython3",
   "version": "3.12.7"
  }
 },
 "nbformat": 4,
 "nbformat_minor": 5
}
